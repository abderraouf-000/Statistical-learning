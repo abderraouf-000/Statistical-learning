{
 "cells": [
  {
   "cell_type": "code",
   "execution_count": 4,
   "id": "1ec5bd89-cdfd-4b8a-9fde-bd7023e0701c",
   "metadata": {},
   "outputs": [],
   "source": [
    "import pandas as pd;\n",
    "import numpy as np;\n",
    "from matplotlib import pyplot as plt\n",
    "from Linear_regression_tools import simple_regression_parameters;"
   ]
  },
  {
   "cell_type": "code",
   "execution_count": 5,
   "id": "ce9c03a9-d94b-416f-8e6b-fd0ef634aab1",
   "metadata": {},
   "outputs": [
    {
     "data": {
      "text/html": [
       "<div>\n",
       "<style scoped>\n",
       "    .dataframe tbody tr th:only-of-type {\n",
       "        vertical-align: middle;\n",
       "    }\n",
       "\n",
       "    .dataframe tbody tr th {\n",
       "        vertical-align: top;\n",
       "    }\n",
       "\n",
       "    .dataframe thead th {\n",
       "        text-align: right;\n",
       "    }\n",
       "</style>\n",
       "<table border=\"1\" class=\"dataframe\">\n",
       "  <thead>\n",
       "    <tr style=\"text-align: right;\">\n",
       "      <th></th>\n",
       "      <th>Unnamed: 0</th>\n",
       "      <th>TV</th>\n",
       "      <th>radio</th>\n",
       "      <th>newspaper</th>\n",
       "      <th>sales</th>\n",
       "    </tr>\n",
       "  </thead>\n",
       "  <tbody>\n",
       "    <tr>\n",
       "      <th>0</th>\n",
       "      <td>1</td>\n",
       "      <td>230.1</td>\n",
       "      <td>37.8</td>\n",
       "      <td>69.2</td>\n",
       "      <td>22.1</td>\n",
       "    </tr>\n",
       "    <tr>\n",
       "      <th>1</th>\n",
       "      <td>2</td>\n",
       "      <td>44.5</td>\n",
       "      <td>39.3</td>\n",
       "      <td>45.1</td>\n",
       "      <td>10.4</td>\n",
       "    </tr>\n",
       "    <tr>\n",
       "      <th>2</th>\n",
       "      <td>3</td>\n",
       "      <td>17.2</td>\n",
       "      <td>45.9</td>\n",
       "      <td>69.3</td>\n",
       "      <td>9.3</td>\n",
       "    </tr>\n",
       "    <tr>\n",
       "      <th>3</th>\n",
       "      <td>4</td>\n",
       "      <td>151.5</td>\n",
       "      <td>41.3</td>\n",
       "      <td>58.5</td>\n",
       "      <td>18.5</td>\n",
       "    </tr>\n",
       "    <tr>\n",
       "      <th>4</th>\n",
       "      <td>5</td>\n",
       "      <td>180.8</td>\n",
       "      <td>10.8</td>\n",
       "      <td>58.4</td>\n",
       "      <td>12.9</td>\n",
       "    </tr>\n",
       "    <tr>\n",
       "      <th>...</th>\n",
       "      <td>...</td>\n",
       "      <td>...</td>\n",
       "      <td>...</td>\n",
       "      <td>...</td>\n",
       "      <td>...</td>\n",
       "    </tr>\n",
       "    <tr>\n",
       "      <th>195</th>\n",
       "      <td>196</td>\n",
       "      <td>38.2</td>\n",
       "      <td>3.7</td>\n",
       "      <td>13.8</td>\n",
       "      <td>7.6</td>\n",
       "    </tr>\n",
       "    <tr>\n",
       "      <th>196</th>\n",
       "      <td>197</td>\n",
       "      <td>94.2</td>\n",
       "      <td>4.9</td>\n",
       "      <td>8.1</td>\n",
       "      <td>9.7</td>\n",
       "    </tr>\n",
       "    <tr>\n",
       "      <th>197</th>\n",
       "      <td>198</td>\n",
       "      <td>177.0</td>\n",
       "      <td>9.3</td>\n",
       "      <td>6.4</td>\n",
       "      <td>12.8</td>\n",
       "    </tr>\n",
       "    <tr>\n",
       "      <th>198</th>\n",
       "      <td>199</td>\n",
       "      <td>283.6</td>\n",
       "      <td>42.0</td>\n",
       "      <td>66.2</td>\n",
       "      <td>25.5</td>\n",
       "    </tr>\n",
       "    <tr>\n",
       "      <th>199</th>\n",
       "      <td>200</td>\n",
       "      <td>232.1</td>\n",
       "      <td>8.6</td>\n",
       "      <td>8.7</td>\n",
       "      <td>13.4</td>\n",
       "    </tr>\n",
       "  </tbody>\n",
       "</table>\n",
       "<p>200 rows × 5 columns</p>\n",
       "</div>"
      ],
      "text/plain": [
       "     Unnamed: 0     TV  radio  newspaper  sales\n",
       "0             1  230.1   37.8       69.2   22.1\n",
       "1             2   44.5   39.3       45.1   10.4\n",
       "2             3   17.2   45.9       69.3    9.3\n",
       "3             4  151.5   41.3       58.5   18.5\n",
       "4             5  180.8   10.8       58.4   12.9\n",
       "..          ...    ...    ...        ...    ...\n",
       "195         196   38.2    3.7       13.8    7.6\n",
       "196         197   94.2    4.9        8.1    9.7\n",
       "197         198  177.0    9.3        6.4   12.8\n",
       "198         199  283.6   42.0       66.2   25.5\n",
       "199         200  232.1    8.6        8.7   13.4\n",
       "\n",
       "[200 rows x 5 columns]"
      ]
     },
     "execution_count": 5,
     "metadata": {},
     "output_type": "execute_result"
    }
   ],
   "source": [
    "adv_data = pd.read_csv(\"Data/Advertising.csv\");\n",
    "\n",
    "adv_data"
   ]
  },
  {
   "cell_type": "code",
   "execution_count": 19,
   "id": "bcb685a5-3924-4a2a-9d6d-4e3287338a68",
   "metadata": {},
   "outputs": [],
   "source": [
    "n = adv_data.shape[0];"
   ]
  },
  {
   "cell_type": "markdown",
   "id": "7c1af979-6d85-4db9-af7f-7775ec5d443a",
   "metadata": {},
   "source": [
    "## I. Creating a simple linear regression ##  "
   ]
  },
  {
   "cell_type": "markdown",
   "id": "80dee9db-6b90-4215-9593-48fb99d3a5e6",
   "metadata": {},
   "source": [
    "### 1. TV linear regression  "
   ]
  },
  {
   "cell_type": "markdown",
   "id": "da9b4fed-3aaf-4cd6-a5b1-159b8a5202db",
   "metadata": {},
   "source": [
    "We can approximate the relationship between the X (TV) and Y (sales) by a linear function as following : "
   ]
  },
  {
   "cell_type": "markdown",
   "id": "a6c1a9aa-576f-49dc-b2b4-b362fae21c92",
   "metadata": {},
   "source": [
    "<b>Y = β0 + β1.X + error.</b><br>\n",
    "here,<br>\n",
    "β0, β1 are considered reducible parameters, however \"error\" is not reducible.<br>\n",
    "Where β0 is the intercept term, β1 is the slope.<br>\n"
   ]
  },
  {
   "cell_type": "markdown",
   "id": "c8a35665-b7c5-40e5-9e86-e93439669b7e",
   "metadata": {},
   "source": [
    "<b>estimating the parameters "
   ]
  },
  {
   "attachments": {
    "30de7a91-5c31-436e-9dbe-83273a6454b2.png": {
     "image/png": "[encoded data removed]"
    }
   },
   "cell_type": "markdown",
   "id": "8a445015-ae6d-45fa-bb1f-ab8296ca6cd0",
   "metadata": {},
   "source": [
    "when dealing the simple version of linear regression, we can easily estimate our parameters using some Calculus<br>\n",
    "<b>What is RSS: </b> <br>\n",
    "RSS = $\\sum_{i=1}^n$(y<sub>i</sub> − β̂ <sub>0</sub> − β̂ <sub>1</sub>.x<sub>i</sub>)^2.<br>\n",
    "Where n here is our sample's size.<br>\n",
    "From this formula we can intuitively derive all the parameters' expression by taking the partial derivatives with respect to  β̂ <sub>0</sub> and β̂ <sub>1</sub> and put it to zero (finding minima coordinates). <br>\n",
    "\n",
    "![image.png](attachment:30de7a91-5c31-436e-9dbe-83273a6454b2.png)"
   ]
  },
  {
   "cell_type": "code",
   "execution_count": 20,
   "id": "e3d76260-de86-4c0d-903a-c09dbdd41680",
   "metadata": {},
   "outputs": [],
   "source": [
    "tv_data = np.array(adv_data['TV']);\n",
    "tv_data_mean = tv_data.mean()\n",
    "y_data = np.array(adv_data['sales']);\n",
    "y_data_mean = y_data.mean()\n",
    "# print(np.sum((tv_data - tv_data_mean)*(y_data - y_data_mean)));\n",
    "\n",
    "beta_hat1,beta_hat0 = simple_regression_parameters(tv_data,y_data,tv_data_mean,y_data_mean);\n",
    "\n",
    "rss = np.sum((y_data - (beta_hat0 + beta_hat1 * tv_data))**2);\n"
   ]
  },
  {
   "cell_type": "markdown",
   "id": "c131dc22-290f-4fef-808f-e817a03a52fd",
   "metadata": {},
   "source": [
    "<b>Assessing the accuracy of the estimates"
   ]
  },
  {
   "cell_type": "markdown",
   "id": "d62de98e-10b8-48ea-88d9-09bda9b93728",
   "metadata": {},
   "source": [
    "Using hypothesis testing (T-statistic) <br>\n",
    "H0 : there is no relationship between X and Y => beta_1 = 0<br>\n",
    "Ha : Contrary to H0.<br>\n",
    "\n",
    "\n"
   ]
  },
  {
   "attachments": {
    "6b0e2e72-118f-4234-8946-26ee2c0ce2b8.png": {
     "image/png": "[encoded data removed]"
    }
   },
   "cell_type": "markdown",
   "id": "63202682-346a-4578-8d73-9acb57aee17a",
   "metadata": {},
   "source": [
    "![image.png](attachment:6b0e2e72-118f-4234-8946-26ee2c0ce2b8.png)"
   ]
  },
  {
   "attachments": {
    "3b7f3083-15b4-4023-99d4-5095d368c03a.png": {
     "image/png": "[encoded data removed]"
    },
    "57a97ef2-77eb-4d91-8af8-022c45315878.png": {
     "image/png": "[encoded data removed]"
    }
   },
   "cell_type": "markdown",
   "id": "ce457225-f565-40dd-ba95-701340bf15be",
   "metadata": {},
   "source": [
    "![image.png](attachment:3b7f3083-15b4-4023-99d4-5095d368c03a.png) <br>\n",
    "Here, sigma = var(error) = RSE .<br>\n",
    "![image.png](attachment:57a97ef2-77eb-4d91-8af8-022c45315878.png)"
   ]
  },
  {
   "cell_type": "code",
   "execution_count": 21,
   "id": "69b70889-d28b-4b8b-ab1b-d23f29980548",
   "metadata": {},
   "outputs": [
    {
     "name": "stdout",
     "output_type": "stream",
     "text": [
      "  estimate  coefficients  T-statistic  P-value\n",
      "0   beta_0      7.032594    15.360275  <0.0001\n",
      "1   beta_1      0.047537    17.667626  <0.0001\n"
     ]
    }
   ],
   "source": [
    "# calculating SE(Beta_1),t\n",
    "rse = (rss/(n-2))**0.5;\n",
    "se_beta1 = np.sqrt(rse**2 / np.sum((tv_data - tv_data_mean)**2));\n",
    "se_beta0 = np.sqrt((rse**2)*( (1/n) + tv_data_mean**2/(np.sum((tv_data - tv_data_mean)**2))));\n",
    "t_beta1 = beta_hat1 / se_beta1;\n",
    "t_beta0 = beta_hat0 / se_beta0;\n",
    "\n",
    "\n",
    "estimates_results = pd.DataFrame({'estimate': ['beta_0','beta_1'] , 'coefficients':[beta_hat0,beta_hat1] , 'T-statistic' : [t_beta0,t_beta1] , 'P-value' : ['<0.0001' ,'<0.0001']});\n",
    "print(estimates_results);"
   ]
  },
  {
   "cell_type": "markdown",
   "id": "dded0d3f-f645-4c02-b6ed-adcdc67601d8",
   "metadata": {},
   "source": [
    "from the t-distribution table we will find that p-value is approximately equal to 0 <br>\n",
    "For 95% confidence interval, and n-2 DF => We reject H0 and accept Ha"
   ]
  },
  {
   "cell_type": "markdown",
   "id": "9db8dc91-5f62-46cc-a5bc-9bd630e9403a",
   "metadata": {},
   "source": [
    "<b>Assessing the accuracy of the model"
   ]
  },
  {
   "cell_type": "markdown",
   "id": "f7a4a9eb-2e7c-4cf4-881c-a5e677895707",
   "metadata": {},
   "source": [
    "So, we have proved that there is a relationship between sales and TV. Now we should assess our model using <b> the residual standard error (RSE)</b> or<b> R^2 statistic </b>.<br>\n",
    "<b> R^2 statistic </b> : the proportion of variability of Y explained by our model."
   ]
  },
  {
   "attachments": {
    "d7b55c6e-1948-4183-98f7-f5af841391a4.png": {
     "image/png": "[encoded data removed]"
    },
    "edae9b65-0231-443e-960e-73bc8207e687.png": {
     "image/png": "[encoded data removed]"
    }
   },
   "cell_type": "markdown",
   "id": "9c66f637-5af8-447a-ac2a-a6f9ee39c44a",
   "metadata": {},
   "source": [
    "![image.png](attachment:d7b55c6e-1948-4183-98f7-f5af841391a4.png) ![image.png](attachment:edae9b65-0231-443e-960e-73bc8207e687.png)"
   ]
  },
  {
   "cell_type": "code",
   "execution_count": 22,
   "id": "4845f1e7-7513-43a3-b39d-dda77baf9f5d",
   "metadata": {},
   "outputs": [
    {
     "name": "stdout",
     "output_type": "stream",
     "text": [
      "5417.14875\n",
      "0.6118750508500711\n"
     ]
    },
    {
     "data": {
      "text/html": [
       "<div>\n",
       "<style scoped>\n",
       "    .dataframe tbody tr th:only-of-type {\n",
       "        vertical-align: middle;\n",
       "    }\n",
       "\n",
       "    .dataframe tbody tr th {\n",
       "        vertical-align: top;\n",
       "    }\n",
       "\n",
       "    .dataframe thead th {\n",
       "        text-align: right;\n",
       "    }\n",
       "</style>\n",
       "<table border=\"1\" class=\"dataframe\">\n",
       "  <thead>\n",
       "    <tr style=\"text-align: right;\">\n",
       "      <th></th>\n",
       "      <th>RSE</th>\n",
       "      <th>R^2</th>\n",
       "    </tr>\n",
       "  </thead>\n",
       "  <tbody>\n",
       "    <tr>\n",
       "      <th>0</th>\n",
       "      <td>3.258656</td>\n",
       "      <td>0.611875</td>\n",
       "    </tr>\n",
       "  </tbody>\n",
       "</table>\n",
       "</div>"
      ],
      "text/plain": [
       "        RSE       R^2\n",
       "0  3.258656  0.611875"
      ]
     },
     "execution_count": 22,
     "metadata": {},
     "output_type": "execute_result"
    }
   ],
   "source": [
    "tss = np.sum((y_data - y_data_mean)**2);\n",
    "R = np.sqrt((tss - rss) /tss );\n",
    "print(tss);\n",
    "print(R**2);\n",
    "model_results = pd.DataFrame({'RSE': [rse] , 'R^2':[R**2]});\n",
    "model_results"
   ]
  },
  {
   "cell_type": "code",
   "execution_count": 23,
   "id": "21a27cc3",
   "metadata": {},
   "outputs": [
    {
     "data": {
      "image/png": "[encoded data removed]",
      "text/plain": [
       "<Figure size 640x480 with 1 Axes>"
      ]
     },
     "metadata": {},
     "output_type": "display_data"
    }
   ],
   "source": [
    "fig,ax = plt.subplots();\n",
    "ax.scatter(x = adv_data['TV'] , y = adv_data['sales']);\n",
    "ax.set_xlabel(\"TV budget\")\n",
    "ax.set_ylabel(\"Sales\")\n",
    "ax.plot( adv_data['TV'] ,adv_data['TV']*beta_hat1 + beta_hat0 , color = \"red\" , label = \"regression line\");\n",
    "plt.legend();\n",
    "plt.show()"
   ]
  },
  {
   "cell_type": "markdown",
   "id": "d247dc01-b9c6-42d6-b280-8f7394307df6",
   "metadata": {},
   "source": [
    "### Multiple Linear regression"
   ]
  },
  {
   "cell_type": "markdown",
   "id": "cbb941a3-745b-4063-b0fa-192b4fe6bca3",
   "metadata": {},
   "source": [
    "How to test if there is a relationship between the predictors and response\n",
    "(https://online.stat.psu.edu/stat501/lesson/6/6.2)\n"
   ]
  },
  {
   "cell_type": "code",
   "execution_count": 24,
   "id": "2c03261f-8892-440d-81e1-d56549ad5d83",
   "metadata": {},
   "outputs": [],
   "source": [
    "from sklearn.model_selection import train_test_split\n",
    "from sklearn.linear_model import LinearRegression\n",
    "from sklearn.metrics import mean_squared_error, r2_score"
   ]
  },
  {
   "cell_type": "code",
   "execution_count": 30,
   "id": "9053aac0",
   "metadata": {},
   "outputs": [
    {
     "name": "stdout",
     "output_type": "stream",
     "text": [
      "[20.52397441 12.33785482 12.30767078 17.59782951 13.18867186 12.47834763\n",
      " 11.72975995 12.12295317  3.72734086 12.55084872  7.0322992  17.28512918\n",
      " 10.57712073  8.82630048 18.43436638 20.81929952 12.82365674 23.22495716\n",
      "  9.95168206 14.16607293 18.10076728 14.7405382   6.4891503  16.5459329\n",
      "  8.14651887 15.6100386  14.98951429 17.05167344 19.41053803  9.14402389\n",
      " 21.6339338  11.3460929   7.63888314 18.86426829  7.57483051 17.00682618\n",
      " 23.40590052 15.62347779  9.90868103 20.44761039 16.37766467 17.2959832\n",
      " 21.59580326 13.96385684  8.88787996 15.16152314  8.87338673 21.7226299\n",
      " 16.26362018  8.1681656  12.63121132  9.33981296 20.66297563 19.94469957\n",
      " 20.37443008 21.2926106   8.52771254 12.77458802 21.89805198 18.13348698\n",
      "  5.74215558 22.89067208 16.78426073 13.21069202 16.97773556  7.84904532\n",
      "  9.01603163 12.0370073  18.97657924 21.10891244 17.77949782 10.62693815\n",
      " 10.36684881  9.90298206 17.32931197 11.85832174  4.47758904 13.81190223\n",
      "  8.81331353  9.67530328 11.44592364 14.64794093 10.17840799 14.42184212\n",
      " 20.78136464 15.18140789 11.59870739 15.59378475 11.71127101 16.92225511\n",
      "  9.99922965  4.49631598 19.15639616 21.22757378 10.48212385 16.31492112\n",
      " 12.63571716 15.33707782 24.11860723 16.94035021 13.87595844 23.24248685\n",
      " 17.64409385 14.76221142 20.30110878 17.93641467  6.12602215  7.10850249\n",
      "  3.58725841 19.69293106 14.7598741  21.14027498 13.88060985 16.40377623\n",
      " 15.30509593 12.91968895 11.97874744  6.5707774  15.56609348  6.82006767\n",
      " 14.41010605  7.83807642 13.6264571  15.0827909  19.45441306  9.12734958\n",
      " 10.57717411  6.599669   22.25549161  7.88410649 10.4276871  15.57779819\n",
      "  8.44915012 19.26692307 11.8368039  14.00141385 11.45348627 20.85125198\n",
      "  9.76842795 19.67547632  9.48964097 18.39902932 19.24986927  8.76480262\n",
      " 10.09133403  9.70853872 15.29422368 23.26086103 12.26335941  9.8272711\n",
      " 18.36720534 10.0095377  16.3600003  18.22390132 15.50161696  5.3075589\n",
      " 15.38485192 10.0143112  10.38419866 12.39914823 14.21383298 13.55914568\n",
      " 14.94678206 17.35163608 11.0682946  14.22372138 10.82439531 13.36324677\n",
      " 17.1861428  17.9415563   7.39497997 14.35827373  7.60769238 11.97093887\n",
      " 13.74435742 24.78687031 19.9793727  12.1620464  16.01099722 12.38455495\n",
      " 10.5871997  13.92809918  6.55467    24.13310013 18.53852096 20.80301059\n",
      "  9.69137313 17.07644223 18.64430648  6.05162411 12.4891591   8.42401933\n",
      "  4.46622956 18.48695797 16.49530044  5.37034248  8.16531236 12.78592082\n",
      " 23.76732149 15.17319554]\n"
     ]
    }
   ],
   "source": [
    "# initializing the model \n",
    "multiRegression = LinearRegression();\n",
    "\n",
    "# train_x,test_x,train_y,test_y = train_test_split(adv_data[['TV','radio','newspaper']],adv_data['sales'],shuffle=True,test_size=0.0,train_size=0.8);\n",
    "\n",
    "multiRegression.fit(adv_data[['TV','radio','newspaper']],adv_data['sales']);\n",
    "\n",
    "y_hat = multiRegression.predict(adv_data[['TV','radio','newspaper']]);\n",
    "\n",
    "print(y_hat)\n",
    "\n"
   ]
  },
  {
   "attachments": {
    "image.png": {
     "image/png": "[encoded data removed]"
    }
   },
   "cell_type": "markdown",
   "id": "885afeaf",
   "metadata": {},
   "source": [
    "we have created and trained our model with 3 predictors (TV, newspaper, radio). <br>\n",
    "Now, we will try to ensure that there is a relationship between at least one of our three predictors and the response (sales) with the help of F-test. <br>\n",
    "setting our reduced, full models.<br>\n",
    "H0 : reduced model, y = beta0 or μ for example .<br>\n",
    "Ha : full model, y = x_0*beta_1+  x_1*beta_2 + x_2*beta_3 + beta_0. <br>\n",
    "<br>\n",
    "![image.png](attachment:image.png) <br>\n",
    "\n",
    "p : is the number of added variable in the full model.<br>\n",
    "n : number of sample's observations. \n"
   ]
  },
  {
   "cell_type": "code",
   "execution_count": 33,
   "id": "8da9c6fc",
   "metadata": {},
   "outputs": [
    {
     "data": {
      "text/plain": [
       "570.2707036590942"
      ]
     },
     "execution_count": 33,
     "metadata": {},
     "output_type": "execute_result"
    }
   ],
   "source": [
    "rss = np.sum(( adv_data['sales'] - (y_hat))**2);\n",
    "\n",
    "F_statistic = ((tss - rss)/3) / (rss / (n - 3 - 1));\n",
    "\n",
    "F_statistic"
   ]
  },
  {
   "cell_type": "code",
   "execution_count": null,
   "id": "14c0ca6f",
   "metadata": {},
   "outputs": [],
   "source": []
  }
 ],
 "metadata": {
  "kernelspec": {
   "display_name": "Python 3 (ipykernel)",
   "language": "python",
   "name": "python3"
  },
  "language_info": {
   "codemirror_mode": {
    "name": "ipython",
    "version": 3
   },
   "file_extension": ".py",
   "mimetype": "text/x-python",
   "name": "python",
   "nbconvert_exporter": "python",
   "pygments_lexer": "ipython3",
   "version": "3.10.12"
  }
 },
 "nbformat": 4,
 "nbformat_minor": 5
}
